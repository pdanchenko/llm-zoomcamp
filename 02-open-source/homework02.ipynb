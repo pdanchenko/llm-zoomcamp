{
 "cells": [
  {
   "metadata": {},
   "cell_type": "markdown",
   "source": "#### Question 1",
   "id": "9b5a995d9f2576a3"
  },
  {
   "metadata": {},
   "cell_type": "code",
   "outputs": [
    {
     "name": "stdout",
     "output_type": "stream",
     "text": [
      "ollama version is 0.1.48\r\n"
     ]
    }
   ],
   "execution_count": 59,
   "source": "!docker exec -it gemma2b bash -c 'ollama -v'",
   "id": "d347de84a08d3672"
  },
  {
   "metadata": {},
   "cell_type": "markdown",
   "source": "#### Question 2",
   "id": "2e2601a3ae0229b6"
  },
  {
   "metadata": {
    "ExecuteTime": {
     "end_time": "2024-07-07T20:19:16.972496Z",
     "start_time": "2024-07-07T20:19:16.772087Z"
    }
   },
   "cell_type": "code",
   "source": "!docker exec -it gemma2b bash -c 'cat /root/.ollama/models/manifests/registry.ollama.ai/library/gemma/2b'\n",
   "id": "296468973046763e",
   "outputs": [
    {
     "name": "stdout",
     "output_type": "stream",
     "text": [
      "{\"schemaVersion\":2,\"mediaType\":\"application/vnd.docker.distribution.manifest.v2+json\",\"config\":{\"mediaType\":\"application/vnd.docker.container.image.v1+json\",\"digest\":\"sha256:887433b89a901c156f7e6944442f3c9e57f3c55d6ed52042cbb7303aea994290\",\"size\":483},\"layers\":[{\"mediaType\":\"application/vnd.ollama.image.model\",\"digest\":\"sha256:c1864a5eb19305c40519da12cc543519e48a0697ecd30e15d5ac228644957d12\",\"size\":1678447520},{\"mediaType\":\"application/vnd.ollama.image.license\",\"digest\":\"sha256:097a36493f718248845233af1d3fefe7a303f864fae13bc31a3a9704229378ca\",\"size\":8433},{\"mediaType\":\"application/vnd.ollama.image.template\",\"digest\":\"sha256:109037bec39c0becc8221222ae23557559bc594290945a2c4221ab4f303b8871\",\"size\":136},{\"mediaType\":\"application/vnd.ollama.image.params\",\"digest\":\"sha256:22a838ceb7fb22755a3b0ae9b4eadde629d19be1f651f73efb8c6b4e2cd0eea0\",\"size\":84}]}"
     ]
    }
   ],
   "execution_count": 60
  },
  {
   "metadata": {},
   "cell_type": "markdown",
   "source": "#### Question 3",
   "id": "4d985adfa607ff4c"
  },
  {
   "metadata": {
    "ExecuteTime": {
     "end_time": "2024-07-07T20:22:48.273618Z",
     "start_time": "2024-07-07T20:22:45.688259Z"
    }
   },
   "cell_type": "code",
   "source": "!docker exec -it gemma2b bash -c 'ollama run gemma:2b \"10 * 10\"'",
   "id": "1da836a4bf568d6e",
   "outputs": [
    {
     "name": "stdout",
     "output_type": "stream",
     "text": [
      "\u001B[?25l\u001B[?25l\u001B[?25h\u001B[2K\u001B[1G\u001B[?25hSure\u001B[?25l\u001B[?25h,\u001B[?25l\u001B[?25h here\u001B[?25l\u001B[?25h'\u001B[?25l\u001B[?25hs\u001B[?25l\u001B[?25h the\u001B[?25l\u001B[?25h response\u001B[?25l\u001B[?25h you\u001B[?25l\u001B[?25h requested\u001B[?25l\u001B[?25h:\u001B[?25l\u001B[?25h\r\n",
      "\r\n",
      "\u001B[?25l\u001B[?25h1\u001B[?25l\u001B[?25h0\u001B[?25l\u001B[?25h *\u001B[?25l\u001B[?25h \u001B[?25l\u001B[?25h1\u001B[?25l\u001B[?25h0\u001B[?25l\u001B[?25h =\u001B[?25l\u001B[?25h \u001B[?25l\u001B[?25h1\u001B[?25l\u001B[?25h0\u001B[?25l\u001B[?25h0\u001B[?25l\u001B[?25h.\u001B[?25l\u001B[?25h\r\n",
      "\r\n",
      "\u001B[?25l\u001B[?25hIs\u001B[?25l\u001B[?25h there\u001B[?25l\u001B[?25h anything\u001B[?25l\u001B[?25h else\u001B[?25l\u001B[?25h I\u001B[?25l\u001B[?25h can\u001B[?25l\u001B[?25h help\u001B[?25l\u001B[?25h you\u001B[?25l\u001B[?25h with\u001B[?25l\u001B[?25h?\u001B[?25l\u001B[?25h\r\n",
      "\r\n",
      "\u001B[?25l\u001B[?25h"
     ]
    }
   ],
   "execution_count": 70
  },
  {
   "metadata": {},
   "cell_type": "markdown",
   "source": "#### Question 4",
   "id": "d2dedb019a0fa654"
  },
  {
   "metadata": {
    "ExecuteTime": {
     "end_time": "2024-07-07T20:24:00.010490Z",
     "start_time": "2024-07-07T20:23:59.864805Z"
    }
   },
   "cell_type": "code",
   "source": "!du -h ollama_files",
   "id": "1a087904a023b2f8",
   "outputs": [
    {
     "name": "stdout",
     "output_type": "stream",
     "text": [
      "1.6G\tollama_files/models/blobs\r\n",
      "4.0K\tollama_files/models/manifests/registry.ollama.ai/library/gemma\r\n",
      "4.0K\tollama_files/models/manifests/registry.ollama.ai/library\r\n",
      "4.0K\tollama_files/models/manifests/registry.ollama.ai\r\n",
      "4.0K\tollama_files/models/manifests\r\n",
      "1.6G\tollama_files/models\r\n",
      "1.6G\tollama_files\r\n"
     ]
    }
   ],
   "execution_count": 71
  },
  {
   "metadata": {},
   "cell_type": "markdown",
   "source": "#### Question 6",
   "id": "e617ce1c7fd7096f"
  },
  {
   "metadata": {
    "ExecuteTime": {
     "end_time": "2024-07-07T20:24:45.127684Z",
     "start_time": "2024-07-07T20:24:45.113966Z"
    }
   },
   "cell_type": "code",
   "source": [
    "from openai import OpenAI\n",
    "\n",
    "client = OpenAI(\n",
    "    base_url='http://localhost:11434/v1/',\n",
    "    api_key='ollama',\n",
    ")"
   ],
   "id": "93fe6a746418cf52",
   "outputs": [],
   "execution_count": 72
  },
  {
   "metadata": {
    "ExecuteTime": {
     "end_time": "2024-07-07T20:24:46.260336Z",
     "start_time": "2024-07-07T20:24:46.258350Z"
    }
   },
   "cell_type": "code",
   "source": [
    "def llm(prompt):\n",
    "    response = client.chat.completions.create(\n",
    "        model='gemma:2b',\n",
    "        messages=[{\"role\": \"user\", \"content\": prompt}],\n",
    "        temperature=0.0\n",
    "    )\n",
    "    return response"
   ],
   "id": "6b6e952196b74e9c",
   "outputs": [],
   "execution_count": 73
  },
  {
   "metadata": {
    "ExecuteTime": {
     "end_time": "2024-07-07T20:24:49.087874Z",
     "start_time": "2024-07-07T20:24:49.085961Z"
    }
   },
   "cell_type": "code",
   "source": "prompt = \"What's the formula for energy?\"",
   "id": "20663cbd5f45b0cf",
   "outputs": [],
   "execution_count": 74
  },
  {
   "metadata": {
    "ExecuteTime": {
     "end_time": "2024-07-07T20:25:12.803620Z",
     "start_time": "2024-07-07T20:24:52.724430Z"
    }
   },
   "cell_type": "code",
   "source": "response = llm(prompt)",
   "id": "847a5984221a7c05",
   "outputs": [],
   "execution_count": 75
  },
  {
   "metadata": {
    "ExecuteTime": {
     "end_time": "2024-07-07T20:25:12.808200Z",
     "start_time": "2024-07-07T20:25:12.805339Z"
    }
   },
   "cell_type": "code",
   "source": "response.usage.total_tokens",
   "id": "c17ce79adef2afe9",
   "outputs": [
    {
     "data": {
      "text/plain": [
       "307"
      ]
     },
     "execution_count": 76,
     "metadata": {},
     "output_type": "execute_result"
    }
   ],
   "execution_count": 76
  }
 ],
 "metadata": {
  "kernelspec": {
   "display_name": "Python 3",
   "language": "python",
   "name": "python3"
  },
  "language_info": {
   "codemirror_mode": {
    "name": "ipython",
    "version": 2
   },
   "file_extension": ".py",
   "mimetype": "text/x-python",
   "name": "python",
   "nbconvert_exporter": "python",
   "pygments_lexer": "ipython2",
   "version": "2.7.6"
  }
 },
 "nbformat": 4,
 "nbformat_minor": 5
}
