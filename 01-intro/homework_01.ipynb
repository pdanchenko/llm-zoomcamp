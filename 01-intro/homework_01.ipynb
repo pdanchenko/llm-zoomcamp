{
 "cells": [
  {
   "metadata": {
    "ExecuteTime": {
     "end_time": "2024-06-25T13:43:01.497825Z",
     "start_time": "2024-06-25T13:43:01.495924Z"
    }
   },
   "cell_type": "code",
   "source": [
    "import requests\n",
    "import tiktoken\n",
    "\n",
    "from elasticsearch import Elasticsearch\n",
    "from tqdm.auto import tqdm\n",
    "from openai import OpenAI\n",
    "\n",
    "from secret import OPENAI_API_KEY\n"
   ],
   "id": "695d56195ddde772",
   "outputs": [],
   "execution_count": 3
  },
  {
   "metadata": {},
   "cell_type": "markdown",
   "source": "### Task 1",
   "id": "50ed04064c812c2d"
  },
  {
   "metadata": {
    "ExecuteTime": {
     "end_time": "2024-06-25T13:47:55.318085Z",
     "start_time": "2024-06-25T13:47:55.244974Z"
    }
   },
   "cell_type": "code",
   "source": [
    "es_client = Elasticsearch('http://localhost:9200')\n",
    "es_client.info()[\"version\"][\"build_hash\"]"
   ],
   "id": "4581c0c19eec63e9",
   "outputs": [
    {
     "data": {
      "text/plain": [
       "'8d96bbe3bf5fed931f3119733895458eab75dca9'"
      ]
     },
     "execution_count": 8,
     "metadata": {},
     "output_type": "execute_result"
    }
   ],
   "execution_count": 8
  },
  {
   "metadata": {
    "ExecuteTime": {
     "end_time": "2024-06-25T14:09:12.543424Z",
     "start_time": "2024-06-25T14:09:12.347892Z"
    }
   },
   "cell_type": "code",
   "source": "!curl 'http://localhost:9200' --no-progress-meter | grep build_hash",
   "id": "ed69f3b2c003363a",
   "outputs": [
    {
     "name": "stdout",
     "output_type": "stream",
     "text": [
      "    \"build_hash\" : \"8d96bbe3bf5fed931f3119733895458eab75dca9\",\r\n"
     ]
    }
   ],
   "execution_count": 41
  },
  {
   "metadata": {
    "ExecuteTime": {
     "end_time": "2024-06-25T13:43:42.446537Z",
     "start_time": "2024-06-25T13:43:42.443944Z"
    }
   },
   "cell_type": "code",
   "source": "QUERY = \"How do I execute a command in a running docker container?\"",
   "id": "2b49bf7350fd471f",
   "outputs": [],
   "execution_count": 4
  },
  {
   "metadata": {},
   "cell_type": "markdown",
   "source": "### Getting the data",
   "id": "685fba6ace9b7940"
  },
  {
   "metadata": {
    "ExecuteTime": {
     "end_time": "2024-06-25T13:52:38.690512Z",
     "start_time": "2024-06-25T13:52:37.237515Z"
    }
   },
   "cell_type": "code",
   "source": [
    "docs_url = 'https://github.com/DataTalksClub/llm-zoomcamp/blob/main/01-intro/documents.json?raw=1'\n",
    "docs_response = requests.get(docs_url)\n",
    "documents_raw = docs_response.json()\n",
    "\n",
    "documents = []\n",
    "\n",
    "for course in documents_raw:\n",
    "    course_name = course['course']\n",
    "\n",
    "    for doc in course['documents']:\n",
    "        doc['course'] = course_name\n",
    "        documents.append(doc)"
   ],
   "id": "94facff7e5b2154",
   "outputs": [],
   "execution_count": 10
  },
  {
   "metadata": {
    "ExecuteTime": {
     "end_time": "2024-06-25T13:51:51.306735Z",
     "start_time": "2024-06-25T13:51:51.121994Z"
    }
   },
   "cell_type": "code",
   "source": [
    "index_settings = {\n",
    "    \"settings\": {\n",
    "        \"number_of_shards\": 1,\n",
    "        \"number_of_replicas\": 0\n",
    "    },\n",
    "    \"mappings\": {\n",
    "        \"properties\": {\n",
    "            \"text\": {\"type\": \"text\"},\n",
    "            \"section\": {\"type\": \"text\"},\n",
    "            \"question\": {\"type\": \"text\"},\n",
    "            \"course\": {\"type\": \"keyword\"} \n",
    "        }\n",
    "    }\n",
    "}\n",
    "\n",
    "index_name = \"course-questions-homework-01-intro\"\n",
    "es_client.indices.create(index=index_name, body=index_settings)"
   ],
   "id": "aea9b4fe645fe00b",
   "outputs": [
    {
     "data": {
      "text/plain": [
       "ObjectApiResponse({'acknowledged': True, 'shards_acknowledged': True, 'index': 'course-questions-homework-01-intro'})"
      ]
     },
     "execution_count": 9,
     "metadata": {},
     "output_type": "execute_result"
    }
   ],
   "execution_count": 9
  },
  {
   "metadata": {},
   "cell_type": "markdown",
   "source": "### Task 2",
   "id": "620a2d6ce1cb5035"
  },
  {
   "metadata": {
    "ExecuteTime": {
     "end_time": "2024-06-25T13:52:45.563044Z",
     "start_time": "2024-06-25T13:52:41.777044Z"
    }
   },
   "cell_type": "code",
   "source": [
    "for doc in tqdm(documents):\n",
    "    es_client.index(index=index_name, document=doc)"
   ],
   "id": "a01cc4c7875b3ba8",
   "outputs": [
    {
     "name": "stderr",
     "output_type": "stream",
     "text": [
      "100%|██████████| 948/948 [00:03<00:00, 255.07it/s]\n"
     ]
    }
   ],
   "execution_count": 11
  },
  {
   "metadata": {
    "ExecuteTime": {
     "end_time": "2024-06-25T13:53:48.609389Z",
     "start_time": "2024-06-25T13:53:48.606321Z"
    }
   },
   "cell_type": "code",
   "source": [
    "search_query_settings = {\n",
    "        \"size\": 3,\n",
    "        \"query\": {\n",
    "            \"bool\": {\n",
    "                \"must\": {\n",
    "                    \"multi_match\": {\n",
    "                        \"query\": QUERY,\n",
    "                        \"fields\": [\"question^4\", \"text\"],\n",
    "                        \"type\": \"best_fields\"\n",
    "                    }\n",
    "                }\n",
    "            }\n",
    "        }\n",
    "}"
   ],
   "id": "86d5bc25dad38824",
   "outputs": [],
   "execution_count": 14
  },
  {
   "metadata": {
    "ExecuteTime": {
     "end_time": "2024-06-25T13:59:10.695690Z",
     "start_time": "2024-06-25T13:59:10.693649Z"
    }
   },
   "cell_type": "code",
   "source": [
    "def elastic_search(search_query_settings, field: str = \"_source\"):\n",
    "    response = es_client.search(index=index_name, body=search_query_settings)\n",
    "    result_docs = []\n",
    "    \n",
    "    for hit in response['hits']['hits']:\n",
    "        result_docs.append(hit[field])\n",
    "    \n",
    "    return result_docs"
   ],
   "id": "454b0abea57c4fef",
   "outputs": [],
   "execution_count": 28
  },
  {
   "metadata": {},
   "cell_type": "markdown",
   "source": "### Task 3",
   "id": "acdb9b54b7759fd1"
  },
  {
   "metadata": {
    "ExecuteTime": {
     "end_time": "2024-06-25T13:53:51.895622Z",
     "start_time": "2024-06-25T13:53:51.596161Z"
    }
   },
   "cell_type": "code",
   "source": "elastic_search(search_query_settings, \"_score\")[0]",
   "id": "c165e85c3f227753",
   "outputs": [
    {
     "data": {
      "text/plain": [
       "84.050095"
      ]
     },
     "execution_count": 16,
     "metadata": {},
     "output_type": "execute_result"
    }
   ],
   "execution_count": 16
  },
  {
   "metadata": {
    "ExecuteTime": {
     "end_time": "2024-06-25T13:54:13.468936Z",
     "start_time": "2024-06-25T13:54:13.465591Z"
    }
   },
   "cell_type": "code",
   "source": [
    "search_query_settings_ml = {\n",
    "        \"size\": 3,\n",
    "        \"query\": {\n",
    "            \"bool\": {\n",
    "                \"must\": {\n",
    "                    \"multi_match\": {\n",
    "                        \"query\": QUERY,\n",
    "                        \"fields\": [\"question^4\", \"text\"],\n",
    "                        \"type\": \"best_fields\"\n",
    "                    }\n",
    "                },\n",
    "                \"filter\": {\n",
    "                    \"term\": {\n",
    "                        \"course\": \"machine-learning-zoomcamp\"\n",
    "                    }\n",
    "                }\n",
    "            }\n",
    "        }\n",
    "}"
   ],
   "id": "a15769a8aa932a03",
   "outputs": [],
   "execution_count": 18
  },
  {
   "metadata": {},
   "cell_type": "markdown",
   "source": "### Task #4",
   "id": "444817e33b4b14af"
  },
  {
   "metadata": {
    "ExecuteTime": {
     "end_time": "2024-06-25T14:13:36.228077Z",
     "start_time": "2024-06-25T14:13:36.210676Z"
    }
   },
   "cell_type": "code",
   "source": "elastic_search(search_query_settings_ml, \"_source\")[2][\"question\"]",
   "id": "53d91ed534b7291a",
   "outputs": [
    {
     "data": {
      "text/plain": [
       "'How do I copy files from a different folder into docker container’s working directory?'"
      ]
     },
     "execution_count": 46,
     "metadata": {},
     "output_type": "execute_result"
    }
   ],
   "execution_count": 46
  },
  {
   "metadata": {},
   "cell_type": "markdown",
   "source": "### Task 5",
   "id": "f0e17d519e3a2352"
  },
  {
   "metadata": {
    "ExecuteTime": {
     "end_time": "2024-06-25T13:58:08.817069Z",
     "start_time": "2024-06-25T13:58:08.814628Z"
    }
   },
   "cell_type": "code",
   "source": [
    "def build_prompt(query, search_results):\n",
    "    prompt_template = \"\"\"\n",
    "You're a course teaching assistant. Answer the QUESTION based on the CONTEXT from the FAQ database.\n",
    "Use only the facts from the CONTEXT when answering the QUESTION.\n",
    "\n",
    "QUESTION: {question}\n",
    "\n",
    "CONTEXT:\n",
    "{context}\n",
    "\"\"\".strip()\n",
    "\n",
    "    context_template = \"\"\"\n",
    "Q: {question}\n",
    "A: {text}\n",
    "\"\"\".strip()\n",
    "\n",
    "    context = \"\"\n",
    "    for doc in search_results:\n",
    "        context = context + context_template.format(\n",
    "            question=doc['question'], text=doc['text']) + \"\\n\\n\"\n",
    "    \n",
    "    prompt = prompt_template.format(question=query, context=context).strip()\n",
    "    return prompt"
   ],
   "id": "95ccbc0dcad9a34c",
   "outputs": [],
   "execution_count": 22
  },
  {
   "metadata": {
    "ExecuteTime": {
     "end_time": "2024-06-25T13:58:10.163431Z",
     "start_time": "2024-06-25T13:58:10.154822Z"
    }
   },
   "cell_type": "code",
   "source": [
    "client = OpenAI(api_key=OPENAI_API_KEY)\n",
    "\n",
    "def llm(prompt):\n",
    "    response = client.chat.completions.create(\n",
    "        model='gpt-3.5-turbo',\n",
    "        messages=[{\"role\": \"user\", \"content\": prompt}]\n",
    "    )\n",
    "    \n",
    "    return response.choices[0].message.content"
   ],
   "id": "c18a9573c149232",
   "outputs": [],
   "execution_count": 23
  },
  {
   "metadata": {
    "ExecuteTime": {
     "end_time": "2024-06-25T13:58:12.022629Z",
     "start_time": "2024-06-25T13:58:12.019920Z"
    }
   },
   "cell_type": "code",
   "source": [
    "def rag(query):\n",
    "    search_results = elastic_search(search_query_settings_ml)\n",
    "    prompt = build_prompt(query, search_results)\n",
    "    answer = llm(prompt)\n",
    "    return answer"
   ],
   "id": "a5b2fab15445f45b",
   "outputs": [],
   "execution_count": 24
  },
  {
   "metadata": {},
   "cell_type": "markdown",
   "source": "### Task 5",
   "id": "e422d82b69af07db"
  },
  {
   "metadata": {
    "ExecuteTime": {
     "end_time": "2024-06-25T14:10:32.982677Z",
     "start_time": "2024-06-25T14:10:32.949618Z"
    }
   },
   "cell_type": "code",
   "source": "search_results = elastic_search(search_query_settings_ml)",
   "id": "f8c27c2a4beb1daf",
   "outputs": [],
   "execution_count": 42
  },
  {
   "metadata": {
    "ExecuteTime": {
     "end_time": "2024-06-25T14:10:40.998917Z",
     "start_time": "2024-06-25T14:10:40.996915Z"
    }
   },
   "cell_type": "code",
   "source": "print(build_prompt(QUERY, search_results))",
   "id": "5aebc9f83e858d00",
   "outputs": [
    {
     "name": "stdout",
     "output_type": "stream",
     "text": [
      "You're a course teaching assistant. Answer the QUESTION based on the CONTEXT from the FAQ database.\n",
      "Use only the facts from the CONTEXT when answering the QUESTION.\n",
      "\n",
      "QUESTION: How do I execute a command in a running docker container?\n",
      "\n",
      "CONTEXT:\n",
      "Q: How do I debug a docker container?\n",
      "A: Launch the container image in interactive mode and overriding the entrypoint, so that it starts a bash command.\n",
      "docker run -it --entrypoint bash <image>\n",
      "If the container is already running, execute a command in the specific container:\n",
      "docker ps (find the container-id)\n",
      "docker exec -it <container-id> bash\n",
      "(Marcos MJD)\n",
      "\n",
      "Q: How do I copy files from my local machine to docker container?\n",
      "A: You can copy files from your local machine into a Docker container using the docker cp command. Here's how to do it:\n",
      "To copy a file or directory from your local machine into a running Docker container, you can use the `docker cp command`. The basic syntax is as follows:\n",
      "docker cp /path/to/local/file_or_directory container_id:/path/in/container\n",
      "Hrithik Kumar Advani\n",
      "\n",
      "Q: How do I copy files from a different folder into docker container’s working directory?\n",
      "A: You can copy files from your local machine into a Docker container using the docker cp command. Here's how to do it:\n",
      "In the Dockerfile, you can provide the folder containing the files that you want to copy over. The basic syntax is as follows:\n",
      "COPY [\"src/predict.py\", \"models/xgb_model.bin\", \"./\"]\t\t\t\t\t\t\t\t\t\t\tGopakumar Gopinathan\n"
     ]
    }
   ],
   "execution_count": 44
  },
  {
   "metadata": {
    "ExecuteTime": {
     "end_time": "2024-06-25T14:10:46.394032Z",
     "start_time": "2024-06-25T14:10:46.391425Z"
    }
   },
   "cell_type": "code",
   "source": "len(build_prompt(QUERY, search_results))",
   "id": "9d106c128fd03a6f",
   "outputs": [
    {
     "data": {
      "text/plain": [
       "1462"
      ]
     },
     "execution_count": 45,
     "metadata": {},
     "output_type": "execute_result"
    }
   ],
   "execution_count": 45
  },
  {
   "metadata": {},
   "cell_type": "markdown",
   "source": "### Task 6",
   "id": "bb8311061aeace61"
  },
  {
   "metadata": {
    "ExecuteTime": {
     "end_time": "2024-06-25T13:59:32.162417Z",
     "start_time": "2024-06-25T13:59:28.661311Z"
    }
   },
   "cell_type": "code",
   "source": [
    "prompt = build_prompt(QUERY, search_results)\n",
    "len(tiktoken.encoding_for_model(\"gpt-4o\").encode(prompt))"
   ],
   "id": "5d2b71f167359a5",
   "outputs": [
    {
     "data": {
      "text/plain": [
       "322"
      ]
     },
     "execution_count": 30,
     "metadata": {},
     "output_type": "execute_result"
    }
   ],
   "execution_count": 30
  }
 ],
 "metadata": {
  "kernelspec": {
   "display_name": "Python 3",
   "language": "python",
   "name": "python3"
  },
  "language_info": {
   "codemirror_mode": {
    "name": "ipython",
    "version": 2
   },
   "file_extension": ".py",
   "mimetype": "text/x-python",
   "name": "python",
   "nbconvert_exporter": "python",
   "pygments_lexer": "ipython2",
   "version": "2.7.6"
  }
 },
 "nbformat": 4,
 "nbformat_minor": 5
}
